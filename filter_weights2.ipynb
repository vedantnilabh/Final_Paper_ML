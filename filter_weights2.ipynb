{
 "cells": [
  {
   "cell_type": "code",
   "execution_count": null,
   "metadata": {},
   "outputs": [],
   "source": [
    "import tensorflow as tf\n",
    "print(tf.__version__)\n",
    "import numpy as np\n",
    "import matplotlib.pyplot as plt\n",
    "import keras_cv\n",
    "from keras_cv.models import StableDiffusion\n",
    "from keras_cv.models.stable_diffusion.diffusion_model import DiffusionModel\n",
    "import tensorflow.keras as keras\n",
    "import time\n",
    "\n",
    "\n",
    "Stable_diffusion = StableDiffusion(img_height=512, img_width=512)\n",
    "decoder = Stable_diffusion.decoder\n",
    "\n",
    "diffusion_model = DiffusionModel(img_width = 512, img_height = 512, max_text_length=0)\n",
    "\n",
    "cnn_layers_in_order = []\n",
    "\n",
    "for layer in range(len(diffusion_model.layers)):\n",
    "    curr_layer = diffusion_model.layers[layer]\n",
    "    if len(curr_layer.get_weights()) != 0:\n",
    "        for sublayer in range(len(curr_layer.get_weights())):\n",
    "            shape = curr_layer.get_weights()[sublayer].shape\n",
    "            if len(shape) == 4 and shape[0] == 3 and shape[1] == 3:\n",
    "                cnn_layers_in_order.append((layer, sublayer))\n",
    "\n",
    "def get_cnn_layer(index):\n",
    "    return diffusion_model.layers[cnn_layers_in_order[index][0]].get_weights()[cnn_layers_in_order[index][1]]\n",
    "\n",
    "i = 0\n",
    "prev_layer_value = 0\n",
    "visualizable_layers = {}\n",
    "while i < len(cnn_layers_in_order) - 1:\n",
    "    if cnn_layers_in_order[i][0] != cnn_layers_in_order[i+1][0]:\n",
    "        visualizable_layers[cnn_layers_in_order[i][0]] = cnn_layers_in_order[i][1]\n",
    "    i += 1\n",
    "\n",
    "visualizable_layers[cnn_layers_in_order[-1][0]] = cnn_layers_in_order[-1][1]\n",
    "\n",
    "visualizable_layers"
   ]
  }
 ],
 "metadata": {
  "language_info": {
   "name": "python"
  },
  "orig_nbformat": 4
 },
 "nbformat": 4,
 "nbformat_minor": 2
}
