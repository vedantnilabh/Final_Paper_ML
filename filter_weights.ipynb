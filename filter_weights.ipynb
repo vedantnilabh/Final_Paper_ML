{
 "cells": [
  {
   "cell_type": "code",
   "execution_count": 2,
   "metadata": {},
   "outputs": [],
   "source": [
    "import os\n",
    "# get list of images file names\n",
    "images = os.listdir(\"images\")\n",
    "\n",
    "\n",
    "# create 5 different lists based on what the image name starts with\n",
    "# 1. \"layer\"\n",
    "# 2. \"2nd_best_\"\n",
    "# 3. \"3rd_best_\"\n",
    "# 4. \"4th_best_\"\n",
    "# 5. \"5th_best_\"\n",
    "\n",
    "first_best = []\n",
    "second_best = []\n",
    "third_best = []\n",
    "fourth_best = []\n",
    "fifth_best = []\n",
    "\n",
    "for image in images:\n",
    "    if image.startswith(\"layer\"):\n",
    "        first_best.append(image)\n",
    "    elif image.startswith(\"2nd_best_\"):\n",
    "        second_best.append(image)\n",
    "    elif image.startswith(\"3rd_best_\"):\n",
    "        third_best.append(image)\n",
    "    elif image.startswith(\"4th_best_\"):\n",
    "        fourth_best.append(image)\n",
    "    elif image.startswith(\"5th_best_\"):\n",
    "        fifth_best.append(image)\n",
    "\n",
    "\n",
    "# for each of the images in first_best:\n",
    "specific_multi_channel_filters = []\n",
    "for i in range(len(first_best)):\n",
    "    # layer number is the number that is between \"layer_\" and _\"filter\"\n",
    "    filename = first_best[i]\n",
    "    before_index = filename.index(\"layer_\")\n",
    "    filename = filename[before_index + 6:]\n",
    "    after_index = filename.index(\"_filter\")\n",
    "    layer_number = int(filename[:after_index])\n",
    "    filename = filename[after_index + 8:]\n",
    "    after_index = filename.index(\".\")\n",
    "    filter_number = int(filename[:after_index])\n",
    "    specific_multi_channel_filters.append((layer_number, filter_number))\n",
    "\n",
    "# sort specific_multi_channel_filters by the first element of the tuple\n",
    "specific_multi_channel_filters, first_best = zip(*sorted(zip(specific_multi_channel_filters, first_best), key=lambda x: x[0][0]))\n",
    "\n",
    "\n",
    "specific_filters = []\n",
    "for i in range(1, len(first_best)):\n",
    "    (layer_number, multi_channel_filter) = specific_multi_channel_filters[i]\n",
    "    single_channel_filter = specific_multi_channel_filters[i-1][1]\n",
    "    specific_filters.append((layer_number, multi_channel_filter, single_channel_filter))\n",
    "\n",
    "\n",
    "\n"
   ]
  },
  {
   "cell_type": "code",
   "execution_count": 3,
   "metadata": {},
   "outputs": [
    {
     "data": {
      "text/plain": [
       "[(9, 73, 176),\n",
       " (11, 7, 73),\n",
       " (12, 412, 7),\n",
       " (14, 386, 412),\n",
       " (16, 627, 386),\n",
       " (17, 1214, 627),\n",
       " (19, 407, 1214),\n",
       " (21, 336, 407),\n",
       " (22, 757, 336),\n",
       " (23, 757, 757),\n",
       " (24, 661, 757),\n",
       " (26, 661, 661),\n",
       " (28, 418, 661),\n",
       " (30, 148, 418),\n",
       " (32, 741, 148),\n",
       " (33, 579, 741),\n",
       " (35, 1016, 579),\n",
       " (38, 82, 1016),\n",
       " (41, 532, 82),\n",
       " (43, 962, 532),\n",
       " (45, 470, 962),\n",
       " (48, 279, 470),\n",
       " (51, 398, 279),\n",
       " (53, 631, 398),\n",
       " (55, 187, 631),\n",
       " (58, 227, 187),\n",
       " (61, 303, 227),\n",
       " (65, 3, 303)]"
      ]
     },
     "execution_count": 3,
     "metadata": {},
     "output_type": "execute_result"
    }
   ],
   "source": [
    "specific_filters"
   ]
  },
  {
   "cell_type": "code",
   "execution_count": 4,
   "metadata": {},
   "outputs": [
    {
     "name": "stdout",
     "output_type": "stream",
     "text": [
      "2.12.0\n",
      "By using this model checkpoint, you acknowledge that its usage is subject to the terms of the CreativeML Open RAIL-M license at https://raw.githubusercontent.com/CompVis/stable-diffusion/main/LICENSE\n",
      "Metal device set to: Apple M1 Pro\n",
      "\n",
      "systemMemory: 16.00 GB\n",
      "maxCacheSize: 5.33 GB\n",
      "\n"
     ]
    }
   ],
   "source": [
    "import tensorflow as tf\n",
    "print(tf.__version__)\n",
    "import numpy as np\n",
    "import matplotlib.pyplot as plt\n",
    "import keras_cv\n",
    "from keras_cv.models import StableDiffusion\n",
    "from keras_cv.models.stable_diffusion.diffusion_model import DiffusionModel\n",
    "import tensorflow.keras as keras\n",
    "import time\n",
    "\n",
    "\n",
    "\n",
    "\n",
    "Stable_diffusion = StableDiffusion(img_height=512, img_width=512)\n",
    "decoder = Stable_diffusion.decoder\n",
    "\n",
    "diffusion_model = DiffusionModel(img_width = 512, img_height = 512, max_text_length=0)\n"
   ]
  },
  {
   "cell_type": "code",
   "execution_count": 5,
   "metadata": {},
   "outputs": [],
   "source": [
    "cnn_layers_in_order = []\n",
    "\n",
    "for layer in range(len(diffusion_model.layers)):\n",
    "    curr_layer = diffusion_model.layers[layer]\n",
    "    if len(curr_layer.get_weights()) != 0:\n",
    "        for sublayer in range(len(curr_layer.get_weights())):\n",
    "            shape = curr_layer.get_weights()[sublayer].shape\n",
    "            if len(shape) == 4 and shape[0] == 3 and shape[1] == 3:\n",
    "                cnn_layers_in_order.append((layer, sublayer))\n",
    "\n",
    "def get_cnn_layer(index):\n",
    "    return diffusion_model.layers[cnn_layers_in_order[index][0]].get_weights()[cnn_layers_in_order[index][1]]"
   ]
  },
  {
   "cell_type": "code",
   "execution_count": 6,
   "metadata": {},
   "outputs": [],
   "source": [
    "first_layer = get_cnn_layer(9)"
   ]
  },
  {
   "cell_type": "code",
   "execution_count": 7,
   "metadata": {},
   "outputs": [
    {
     "data": {
      "text/plain": [
       "(3, 3, 640, 640)"
      ]
     },
     "execution_count": 7,
     "metadata": {},
     "output_type": "execute_result"
    }
   ],
   "source": [
    "first_layer.shape"
   ]
  },
  {
   "cell_type": "code",
   "execution_count": 13,
   "metadata": {},
   "outputs": [],
   "source": [
    "filter = first_layer[:, :, :, 73]\n",
    "single_channel = filter[:, :, 176]"
   ]
  },
  {
   "cell_type": "code",
   "execution_count": 22,
   "metadata": {},
   "outputs": [
    {
     "data": {
      "image/png": "[encoded data removed]",
      "text/plain": [
       "<Figure size 1500x1000 with 1 Axes>"
      ]
     },
     "metadata": {},
     "output_type": "display_data"
    }
   ],
   "source": [
    "fig, axs = plt.subplots(1, 1, figsize=(15, 10), gridspec_kw={'hspace': 0.5, 'wspace': 0.3})\n",
    "\n",
    "# Set up the colormap\n",
    "cmap = plt.cm.get_cmap('RdBu').copy()\n",
    "cmap.set_bad(color='white')\n",
    "\n",
    "# Display the image\n",
    "im = axs.imshow(single_channel, cmap=cmap, vmin=-np.max(single_channel), vmax=np.max(single_channel))\n",
    "\n",
    "# Turn off axis labels\n",
    "axs.axis(\"off\")\n",
    "\n",
    "# Add text annotations for each element in the tensor\n",
    "for i in range(3):\n",
    "    for j in range(3):\n",
    "        axs.text(j, i, f\"{single_channel[i][j]:.2f}\", size=14, ha=\"center\", va=\"center\", color=\"black\")\n",
    "\n",
    "# Show the figure\n",
    "plt.show()\n",
    "\n"
   ]
  },
  {
   "cell_type": "code",
   "execution_count": null,
   "metadata": {},
   "outputs": [],
   "source": []
  }
 ],
 "metadata": {
  "kernelspec": {
   "display_name": "mlenv2022",
   "language": "python",
   "name": "python3"
  },
  "language_info": {
   "codemirror_mode": {
    "name": "ipython",
    "version": 3
   },
   "file_extension": ".py",
   "mimetype": "text/x-python",
   "name": "python",
   "nbconvert_exporter": "python",
   "pygments_lexer": "ipython3",
   "version": "3.10.8"
  },
  "orig_nbformat": 4,
  "vscode": {
   "interpreter": {
    "hash": "9a61028bdfeff4ddff08b09187dae4144e7788e8f752dda32b973b4a39cba6a5"
   }
  }
 },
 "nbformat": 4,
 "nbformat_minor": 2
}
