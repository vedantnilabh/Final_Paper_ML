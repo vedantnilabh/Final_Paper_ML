{
 "cells": [
  {
   "cell_type": "code",
   "execution_count": 35,
   "metadata": {},
   "outputs": [],
   "source": [
    "import os\n",
    "# get list of images file names\n",
    "images = os.listdir(\"/users/skoka/Documents/Final_Paper_ML/images\")\n",
    "\n",
    "\n",
    "# create 5 different lists based on what the image name starts with\n",
    "# 1. \"layer\"\n",
    "# 2. \"2nd_best_\"\n",
    "# 3. \"3rd_best_\"\n",
    "# 4. \"4th_best_\"\n",
    "# 5. \"5th_best_\"\n",
    "\n",
    "first_best = []\n",
    "second_best = []\n",
    "third_best = []\n",
    "fourth_best = []\n",
    "fifth_best = []\n",
    "\n",
    "for image in images:\n",
    "    if image.startswith(\"layer\"):\n",
    "        first_best.append(image)\n",
    "    elif image.startswith(\"2nd_best_\"):\n",
    "        second_best.append(image)\n",
    "    elif image.startswith(\"3rd_best_\"):\n",
    "        third_best.append(image)\n",
    "    elif image.startswith(\"4th_best_\"):\n",
    "        fourth_best.append(image)\n",
    "    elif image.startswith(\"5th_best_\"):\n",
    "        fifth_best.append(image)\n",
    "\n",
    "\n",
    "# for each of the images in first_best:\n",
    "specific_multi_channel_filters = []\n",
    "for i in range(len(first_best)):\n",
    "    # layer number is the number that is between \"layer_\" and _\"filter\"\n",
    "    filename = first_best[i]\n",
    "    before_index = filename.index(\"layer_\")\n",
    "    filename = filename[before_index + 6:]\n",
    "    after_index = filename.index(\"_filter\")\n",
    "    layer_number = int(filename[:after_index])\n",
    "    filename = filename[after_index + 8:]\n",
    "    after_index = filename.index(\".\")\n",
    "    filter_number = int(filename[:after_index])\n",
    "    specific_multi_channel_filters.append((layer_number, filter_number))\n",
    "\n",
    "# sort specific_multi_channel_filters by the first element of the tuple\n",
    "specific_multi_channel_filters, first_best = zip(*sorted(zip(specific_multi_channel_filters, first_best), key=lambda x: x[0][0]))\n",
    "\n",
    "\n",
    "specific_filters = []\n",
    "for i in range(1, len(first_best)):\n",
    "    (layer_number, multi_channel_filter) = specific_multi_channel_filters[i]\n",
    "    single_channel_filter = specific_multi_channel_filters[i-1][1]\n",
    "    specific_filters.append((layer_number, multi_channel_filter, single_channel_filter))\n",
    "\n",
    "\n",
    "\n"
   ]
  },
  {
   "cell_type": "code",
   "execution_count": null,
   "metadata": {},
   "outputs": [],
   "source": []
  }
 ],
 "metadata": {
  "kernelspec": {
   "display_name": "Python 3 (ipykernel)",
   "language": "python",
   "name": "python3"
  },
  "language_info": {
   "codemirror_mode": {
    "name": "ipython",
    "version": 3
   },
   "file_extension": ".py",
   "mimetype": "text/x-python",
   "name": "python",
   "nbconvert_exporter": "python",
   "pygments_lexer": "ipython3",
   "version": "3.9.12"
  },
  "orig_nbformat": 4
 },
 "nbformat": 4,
 "nbformat_minor": 2
}
